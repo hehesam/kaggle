{
 "cells": [
  {
   "cell_type": "code",
   "execution_count": null,
   "id": "8bddc5c5",
   "metadata": {
    "papermill": {
     "duration": 0.013223,
     "end_time": "2022-02-21T10:35:01.027672",
     "exception": false,
     "start_time": "2022-02-21T10:35:01.014449",
     "status": "completed"
    },
    "tags": []
   },
   "outputs": [],
   "source": []
  },
  {
   "cell_type": "code",
   "execution_count": 1,
   "id": "ce0922c2",
   "metadata": {
    "_cell_guid": "b1076dfc-b9ad-4769-8c92-a6c4dae69d19",
    "_uuid": "8f2839f25d086af736a60e9eeb907d3b93b6e0e5",
    "execution": {
     "iopub.execute_input": "2022-02-21T10:35:01.057599Z",
     "iopub.status.busy": "2022-02-21T10:35:01.056419Z",
     "iopub.status.idle": "2022-02-21T10:35:01.074974Z",
     "shell.execute_reply": "2022-02-21T10:35:01.075678Z",
     "shell.execute_reply.started": "2022-02-21T10:33:06.676146Z"
    },
    "papermill": {
     "duration": 0.034452,
     "end_time": "2022-02-21T10:35:01.076052",
     "exception": false,
     "start_time": "2022-02-21T10:35:01.041600",
     "status": "completed"
    },
    "tags": []
   },
   "outputs": [
    {
     "name": "stdout",
     "output_type": "stream",
     "text": [
      "/kaggle/input/zoocsv/zoo.csv\n"
     ]
    }
   ],
   "source": [
    "# This Python 3 environment comes with many helpful analytics libraries installed\n",
    "# It is defined by the kaggle/python Docker image: https://github.com/kaggle/docker-python\n",
    "# For example, here's several helpful packages to load\n",
    "\n",
    "import numpy as np # linear algebra\n",
    "import pandas as pd # data processing, CSV file I/O (e.g. pd.read_csv)\n",
    "\n",
    "# Input data files are available in the read-only \"../input/\" directory\n",
    "# For example, running this (by clicking run or pressing Shift+Enter) will list all files under the input directory\n",
    "\n",
    "import os\n",
    "for dirname, _, filenames in os.walk('/kaggle/input'):\n",
    "    for filename in filenames:\n",
    "        print(os.path.join(dirname, filename))\n",
    "\n",
    "# You can write up to 20GB to the current directory (/kaggle/working/) that gets preserved as output when you create a version using \"Save & Run All\" \n",
    "# You can also write temporary files to /kaggle/temp/, but they won't be saved outside of the current session"
   ]
  },
  {
   "cell_type": "code",
   "execution_count": 2,
   "id": "de919b1b",
   "metadata": {
    "execution": {
     "iopub.execute_input": "2022-02-21T10:35:01.105118Z",
     "iopub.status.busy": "2022-02-21T10:35:01.104466Z",
     "iopub.status.idle": "2022-02-21T10:35:02.312007Z",
     "shell.execute_reply": "2022-02-21T10:35:02.310788Z",
     "shell.execute_reply.started": "2022-02-21T10:33:06.688559Z"
    },
    "papermill": {
     "duration": 1.222431,
     "end_time": "2022-02-21T10:35:02.312176",
     "exception": false,
     "start_time": "2022-02-21T10:35:01.089745",
     "status": "completed"
    },
    "tags": []
   },
   "outputs": [],
   "source": [
    "from sklearn import svm\n",
    "import pandas as pd\n",
    "import math"
   ]
  },
  {
   "cell_type": "code",
   "execution_count": 3,
   "id": "9f5a5f21",
   "metadata": {
    "execution": {
     "iopub.execute_input": "2022-02-21T10:35:02.340067Z",
     "iopub.status.busy": "2022-02-21T10:35:02.339411Z",
     "iopub.status.idle": "2022-02-21T10:35:02.353458Z",
     "shell.execute_reply": "2022-02-21T10:35:02.354031Z",
     "shell.execute_reply.started": "2022-02-21T10:33:07.914546Z"
    },
    "papermill": {
     "duration": 0.029663,
     "end_time": "2022-02-21T10:35:02.354219",
     "exception": false,
     "start_time": "2022-02-21T10:35:02.324556",
     "status": "completed"
    },
    "tags": []
   },
   "outputs": [],
   "source": [
    "data = pd.read_csv('../input/zoocsv/zoo.csv')\n",
    "# data"
   ]
  },
  {
   "cell_type": "markdown",
   "id": "f0c07249",
   "metadata": {
    "papermill": {
     "duration": 0.011962,
     "end_time": "2022-02-21T10:35:02.379388",
     "exception": false,
     "start_time": "2022-02-21T10:35:02.367426",
     "status": "completed"
    },
    "tags": []
   },
   "source": [
    "# Spliting data without skitlearn\n"
   ]
  },
  {
   "cell_type": "code",
   "execution_count": 4,
   "id": "77baaf9f",
   "metadata": {
    "execution": {
     "iopub.execute_input": "2022-02-21T10:35:02.406894Z",
     "iopub.status.busy": "2022-02-21T10:35:02.406191Z",
     "iopub.status.idle": "2022-02-21T10:35:02.419608Z",
     "shell.execute_reply": "2022-02-21T10:35:02.420154Z",
     "shell.execute_reply.started": "2022-02-21T10:33:07.930165Z"
    },
    "papermill": {
     "duration": 0.028792,
     "end_time": "2022-02-21T10:35:02.420360",
     "exception": false,
     "start_time": "2022-02-21T10:35:02.391568",
     "status": "completed"
    },
    "tags": []
   },
   "outputs": [],
   "source": [
    "data = data.sample(frac=1).reset_index(drop=True)\n",
    "data_total_len = data[data.columns[0]].size\n",
    "\n",
    "data_train_frac = 0.6\n",
    "split_index = math.floor(data_total_len*data_train_frac)\n",
    "\n",
    "\n",
    "train_data = data.iloc[:split_index]\n",
    "eval_data = data.iloc[split_index:]"
   ]
  },
  {
   "cell_type": "markdown",
   "id": "ae761efb",
   "metadata": {
    "papermill": {
     "duration": 0.011719,
     "end_time": "2022-02-21T10:35:02.444254",
     "exception": false,
     "start_time": "2022-02-21T10:35:02.432535",
     "status": "completed"
    },
    "tags": []
   },
   "source": [
    "# Spliting data with scikitlearn"
   ]
  },
  {
   "cell_type": "code",
   "execution_count": 5,
   "id": "f771894b",
   "metadata": {
    "execution": {
     "iopub.execute_input": "2022-02-21T10:35:02.472961Z",
     "iopub.status.busy": "2022-02-21T10:35:02.472253Z",
     "iopub.status.idle": "2022-02-21T10:35:02.480475Z",
     "shell.execute_reply": "2022-02-21T10:35:02.480966Z",
     "shell.execute_reply.started": "2022-02-21T10:33:07.945986Z"
    },
    "papermill": {
     "duration": 0.024772,
     "end_time": "2022-02-21T10:35:02.481149",
     "exception": false,
     "start_time": "2022-02-21T10:35:02.456377",
     "status": "completed"
    },
    "tags": []
   },
   "outputs": [],
   "source": [
    "from sklearn.model_selection import train_test_split\n",
    "\n",
    "X = data.iloc[:,1:17]\n",
    "y = data.iloc[:, 17]\n",
    "\n",
    "X_train, x_test, y_train, y_test = train_test_split(X, y)\n"
   ]
  },
  {
   "cell_type": "markdown",
   "id": "993f1750",
   "metadata": {
    "papermill": {
     "duration": 0.011673,
     "end_time": "2022-02-21T10:35:02.505000",
     "exception": false,
     "start_time": "2022-02-21T10:35:02.493327",
     "status": "completed"
    },
    "tags": []
   },
   "source": [
    "## Train and Evaluate the model "
   ]
  },
  {
   "cell_type": "code",
   "execution_count": 6,
   "id": "da0af658",
   "metadata": {
    "execution": {
     "iopub.execute_input": "2022-02-21T10:35:02.532394Z",
     "iopub.status.busy": "2022-02-21T10:35:02.531691Z",
     "iopub.status.idle": "2022-02-21T10:35:02.545432Z",
     "shell.execute_reply": "2022-02-21T10:35:02.546000Z",
     "shell.execute_reply.started": "2022-02-21T10:33:07.959146Z"
    },
    "papermill": {
     "duration": 0.029121,
     "end_time": "2022-02-21T10:35:02.546193",
     "exception": false,
     "start_time": "2022-02-21T10:35:02.517072",
     "status": "completed"
    },
    "tags": []
   },
   "outputs": [
    {
     "data": {
      "text/plain": [
       "SVC()"
      ]
     },
     "execution_count": 6,
     "metadata": {},
     "output_type": "execute_result"
    }
   ],
   "source": [
    "clf = svm.SVC()\n",
    "clf.fit(X_train, y_train)"
   ]
  },
  {
   "cell_type": "code",
   "execution_count": 7,
   "id": "7bfb80fd",
   "metadata": {
    "execution": {
     "iopub.execute_input": "2022-02-21T10:35:02.575418Z",
     "iopub.status.busy": "2022-02-21T10:35:02.574767Z",
     "iopub.status.idle": "2022-02-21T10:35:02.583385Z",
     "shell.execute_reply": "2022-02-21T10:35:02.583916Z",
     "shell.execute_reply.started": "2022-02-21T10:33:07.982879Z"
    },
    "papermill": {
     "duration": 0.025061,
     "end_time": "2022-02-21T10:35:02.584088",
     "exception": false,
     "start_time": "2022-02-21T10:35:02.559027",
     "status": "completed"
    },
    "tags": []
   },
   "outputs": [
    {
     "data": {
      "text/plain": [
       "0.9230769230769231"
      ]
     },
     "execution_count": 7,
     "metadata": {},
     "output_type": "execute_result"
    }
   ],
   "source": [
    "clf.score(x_test, y_test)"
   ]
  },
  {
   "cell_type": "code",
   "execution_count": null,
   "id": "856c382d",
   "metadata": {
    "papermill": {
     "duration": 0.012697,
     "end_time": "2022-02-21T10:35:02.610210",
     "exception": false,
     "start_time": "2022-02-21T10:35:02.597513",
     "status": "completed"
    },
    "tags": []
   },
   "outputs": [],
   "source": []
  }
 ],
 "metadata": {
  "kernelspec": {
   "display_name": "Python 3",
   "language": "python",
   "name": "python3"
  },
  "language_info": {
   "codemirror_mode": {
    "name": "ipython",
    "version": 3
   },
   "file_extension": ".py",
   "mimetype": "text/x-python",
   "name": "python",
   "nbconvert_exporter": "python",
   "pygments_lexer": "ipython3",
   "version": "3.7.12"
  },
  "papermill": {
   "default_parameters": {},
   "duration": 12.381075,
   "end_time": "2022-02-21T10:35:03.333862",
   "environment_variables": {},
   "exception": null,
   "input_path": "__notebook__.ipynb",
   "output_path": "__notebook__.ipynb",
   "parameters": {},
   "start_time": "2022-02-21T10:34:50.952787",
   "version": "2.3.3"
  }
 },
 "nbformat": 4,
 "nbformat_minor": 5
}
